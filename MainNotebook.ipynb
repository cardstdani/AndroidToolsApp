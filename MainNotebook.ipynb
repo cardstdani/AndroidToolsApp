{
  "nbformat": 4,
  "nbformat_minor": 0,
  "metadata": {
    "colab": {
      "provenance": [],
      "private_outputs": true,
      "authorship_tag": "ABX9TyNwWmR10ZNrBdH2XQddnMHE",
      "include_colab_link": true
    },
    "kernelspec": {
      "name": "python3",
      "display_name": "Python 3"
    },
    "language_info": {
      "name": "python"
    }
  },
  "cells": [
    {
      "cell_type": "markdown",
      "metadata": {
        "id": "view-in-github",
        "colab_type": "text"
      },
      "source": [
        "<a href=\"https://colab.research.google.com/github/cardstdani/AndroidToolsApp/blob/master/MainNotebook.ipynb\" target=\"_parent\"><img src=\"https://colab.research.google.com/assets/colab-badge.svg\" alt=\"Open In Colab\"/></a>"
      ]
    },
    {
      "cell_type": "markdown",
      "source": [
        "**Vectores**"
      ],
      "metadata": {
        "id": "SNMnGjP8UlJP"
      }
    },
    {
      "cell_type": "code",
      "source": [
        "vector_size = int(input())\n",
        "v, w = None, None\n",
        "\n",
        "try:\n",
        "    v, w = list(map(float, input().split(\" \"))), list(map(float, input().split(\" \")))\n",
        "    if not len(v)==len(w):\n",
        "        raise Exception()\n",
        "except:\n",
        "    print(\"😌\")\n",
        "\n",
        "s = sum(i[0]*i[1] for i in zip(v, w))\n",
        "print(\"\\n\".join(map(str, [v, w, s])))"
      ],
      "metadata": {
        "id": "I24AlKFOUo6Z"
      },
      "execution_count": null,
      "outputs": []
    },
    {
      "cell_type": "code",
      "source": [
        "import numpy as np\n",
        "\n",
        "vector_size = int(input())\n",
        "v, w = None, None\n",
        "try:\n",
        "    v, w = np.array(input().split(\" \"), dtype=np.float128), np.array(input().split(\" \"), dtype=np.float128)\n",
        "    if not len(v)==len(w):\n",
        "        raise Exception()\n",
        "except:\n",
        "    print(\"😌\")\n",
        "\n",
        "s = np.dot(v, w)\n",
        "print(\"\\n\".join(map(str, [v, w, s])))"
      ],
      "metadata": {
        "id": "ev0vLlppXMil"
      },
      "execution_count": null,
      "outputs": []
    },
    {
      "cell_type": "markdown",
      "source": [
        "**Módulo Serie Taylor**"
      ],
      "metadata": {
        "id": "blSEqukSRjr8"
      }
    },
    {
      "cell_type": "code",
      "source": [
        "import functools\n",
        "import numpy as np\n",
        "\n",
        "def factorial(n):\n",
        "    tmp = 1\n",
        "    for i in range(1, n+1):\n",
        "        tmp *= i\n",
        "    return tmp\n",
        "\n",
        "def factorial_recursive(n):\n",
        "    if n<=1: return n\n",
        "    return n*factorial_recursive(n-1)\n",
        "\n",
        "def factorial_functional(n):\n",
        "    return functools.reduce(lambda x,y:x*y, range(1, n+1))\n",
        "\n",
        "def factorial_optimal(n):\n",
        "    return np.prod(np.arange(1, n+1))\n",
        "\n",
        "factorial_lambda = lambda n: n if n<=1 else n*factorial_lambda(n-1)\n",
        "\n",
        "def sin_taylor(x, n):\n",
        "    tmp = 0\n",
        "    for i in range(0, n):\n",
        "        tmp += ((-1)**i / factorial(2*i + 1))*(x**(2*i + 1))\n",
        "    return tmp\n",
        "\n",
        "def sin_taylor_optimal(x, n):\n",
        "    return sum(((-1)**i / factorial(2*i + 1))*(x**(2*i + 1)) for i in range(0, n))"
      ],
      "metadata": {
        "id": "85Rcrbl_RpbS"
      },
      "execution_count": null,
      "outputs": []
    },
    {
      "cell_type": "code",
      "source": [
        "import time, sys\n",
        "sys.setrecursionlimit(19500)\n",
        "n = 10000\n",
        "\n",
        "def factorial_measure(func, n):\n",
        "    t = time.perf_counter()\n",
        "    func(n)\n",
        "    return time.perf_counter() - t\n",
        "\n",
        "for i in (factorial, factorial_recursive, factorial_functional, factorial_optimal, factorial_lambda):\n",
        "    print(f\"{i.__name__}: {factorial_measure(i, n)} segundos\")"
      ],
      "metadata": {
        "id": "8-wBrYgTupaL"
      },
      "execution_count": null,
      "outputs": []
    },
    {
      "cell_type": "code",
      "source": [
        "n = 10000000\n",
        "\n",
        "t = time.perf_counter()\n",
        "var=0\n",
        "for i in range(1, n):\n",
        "    var += 1\n",
        "t = time.perf_counter()-t\n",
        "print(t)\n",
        "\n",
        "t = time.perf_counter()\n",
        "sum(range(1, n))\n",
        "t = time.perf_counter()-t\n",
        "print(t)"
      ],
      "metadata": {
        "id": "Heham32yrxkb"
      },
      "execution_count": null,
      "outputs": []
    },
    {
      "cell_type": "markdown",
      "source": [
        "**Binary Search**"
      ],
      "metadata": {
        "id": "7TjHOSB7ZoYf"
      }
    },
    {
      "cell_type": "code",
      "source": [
        "def binary_search(arr, low, high, x):\n",
        "    if high >= low:\n",
        "        mid = (high + low) // 2\n",
        "        if arr[mid] == x:\n",
        "            return mid\n",
        "        elif arr[mid] > x:\n",
        "            return binary_search(arr, low, mid - 1, x)\n",
        "        else:\n",
        "            return binary_search(arr, mid + 1, high, x)\n",
        "    else:\n",
        "        return -1\n",
        "\n",
        "def binary_search_iterative(arr, low, high, x):\n",
        "    while high >= low:\n",
        "        mid = (high + low) // 2\n",
        "        if arr[mid] == x:\n",
        "            return mid\n",
        "        elif arr[mid] > x:\n",
        "            high = mid - 1\n",
        "        else:\n",
        "            low = mid + 1\n",
        "    return -1"
      ],
      "metadata": {
        "id": "x3pLPBPoZqJW"
      },
      "execution_count": null,
      "outputs": []
    },
    {
      "cell_type": "code",
      "source": [
        "import time\n",
        "import numpy as np\n",
        "n = 40000000\n",
        "\n",
        "l = np.random.randint(0, 100, n)\n",
        "element = l[-1]\n",
        "t = time.perf_counter()\n",
        "binary_search_iterative(l, 0, len(l)-1, element)\n",
        "t = time.perf_counter()-t\n",
        "print(t)\n",
        "\n",
        "t = time.perf_counter()\n",
        "binary_search(l, 0, len(l)-1, element)\n",
        "t = time.perf_counter()-t\n",
        "print(t)"
      ],
      "metadata": {
        "id": "xqs2lxaqaX3F"
      },
      "execution_count": null,
      "outputs": []
    },
    {
      "cell_type": "markdown",
      "source": [
        "**Generar Matriz en Texto**"
      ],
      "metadata": {
        "id": "3RwMdqzHYNXS"
      }
    },
    {
      "cell_type": "code",
      "source": [
        "print(\"\"\"\n",
        "[[0, 0, 1, 0, 0, 0, 0, 0, 0, 0],\n",
        " [0, 0, 1, 0, 0, 0, 0, 0, 0, 0],\n",
        " [0, 0, 1, 0, 0, 0, 0, 0, 0, 0],\n",
        " [0, 0, 1, 0, 0, 0, 0, 0, 0, 0],\n",
        " [0, 0, 1, 0, 1, 1, 1, 0, 0, 0],\n",
        " [0, 0, 1, 0, 1, 0, 1, 0, 0, 0],\n",
        " [0, 0, 1, 1, 1, 1, 1, 0, 0, 0],\n",
        " [0, 0, 0, 0, 0, 1, 0, 0, 0, 0],\n",
        " [0, 0, 0, 0, 1, 0, 0, 0, 0, 0],\n",
        " [0, 0, 0, 0, 1, 0, 0, 0, 0, 0]]\"\"\".replace(\"[\", \"{\").replace(\"]\", \"}\").replace(\"0\", \"false\").replace(\"1\", \"true\"))"
      ],
      "metadata": {
        "id": "ZcHxUZsVYMeu"
      },
      "execution_count": null,
      "outputs": []
    },
    {
      "cell_type": "code",
      "source": [
        "[[0]*10]*10"
      ],
      "metadata": {
        "id": "6_ay8rQaY3Bb"
      },
      "execution_count": null,
      "outputs": []
    },
    {
      "cell_type": "markdown",
      "source": [
        "**Datasets**\n",
        "https://www.kaggle.com/datasets/jorgerobinat/weather-forecasting-at-vigo-airport-using-ai?select=LEVX.csv\n",
        "\n",
        "https://www.kaggle.com/datasets/shahmirvarqha/weather-data-malaysia?select=full_weather.csv\n",
        "\n",
        "https://www.kaggle.com/datasets/johnjdavisiv/us-counties-covid19-weather-sociohealth-data"
      ],
      "metadata": {
        "id": "32_ux5TsBhUu"
      }
    },
    {
      "cell_type": "code",
      "source": [
        "import requests\n",
        "\n",
        "url = \"https://corgis-edu.github.io/corgis/datasets/csv/weather/weather.csv\"\n",
        "file_path = \"/content/weather.csv\"\n",
        "try:\n",
        "    response = requests.get(url)\n",
        "    if response.status_code == 200:\n",
        "        with open(file_path, 'wb') as file:\n",
        "            file.write(response.content)\n",
        "        download_success = True\n",
        "    else:\n",
        "        download_success = False\n",
        "        error_message = f\"Failed to download. Status code: {response.status_code}\"\n",
        "except Exception as e:\n",
        "    download_success = False\n",
        "    error_message = str(e)\n",
        "\n",
        "download_success, error_message if not download_success else \"Download successful\""
      ],
      "metadata": {
        "id": "6mi3ijhqOUaR"
      },
      "execution_count": null,
      "outputs": []
    },
    {
      "cell_type": "code",
      "source": [
        "import pandas as pd\n",
        "\n",
        "data = pd.read_csv(file_path)\n",
        "data"
      ],
      "metadata": {
        "id": "kIWJIw1HPUts"
      },
      "execution_count": null,
      "outputs": []
    },
    {
      "cell_type": "markdown",
      "source": [
        "**Weather Dataset**"
      ],
      "metadata": {
        "id": "sPS6c5twYedS"
      }
    },
    {
      "cell_type": "code",
      "metadata": {
        "id": "xyv_i85IWInT"
      },
      "source": [
        "import pandas as pd\n",
        "import tensorflow as tf\n",
        "import numpy as np\n",
        "import os\n",
        "\n",
        "path = tf.keras.utils.get_file(\n",
        "    origin='https://storage.googleapis.com/tensorflow/tf-keras-datasets/jena_climate_2009_2016.csv.zip',\n",
        "    fname='jena_climate_2009_2016.csv.zip',\n",
        "    extract=True)\n",
        "csv_path, _ = os.path.splitext(path)"
      ],
      "execution_count": null,
      "outputs": []
    },
    {
      "cell_type": "code",
      "metadata": {
        "id": "TX6uGeeeWIkG"
      },
      "source": [
        "df = pd.read_csv(csv_path)\n",
        "df"
      ],
      "execution_count": null,
      "outputs": []
    },
    {
      "cell_type": "code",
      "source": [
        "df.columns.values"
      ],
      "metadata": {
        "id": "x-NiQZzSY1en"
      },
      "execution_count": null,
      "outputs": []
    },
    {
      "cell_type": "code",
      "source": [
        "np.mean(df[\"p (mbar)\"])"
      ],
      "metadata": {
        "id": "GW0M0YA3Zx5o"
      },
      "execution_count": null,
      "outputs": []
    },
    {
      "cell_type": "markdown",
      "source": [
        "##**Media**##"
      ],
      "metadata": {
        "id": "-HqvPvKvtZjS"
      }
    },
    {
      "cell_type": "code",
      "source": [
        "import random\n",
        "[random.normalvariate(0, 2) for i in range(200)]"
      ],
      "metadata": {
        "id": "Vw5RSyWg2Rr4"
      },
      "execution_count": null,
      "outputs": []
    },
    {
      "cell_type": "code",
      "source": [
        "print((lambda l: sum(l) / len(l) * 1e-9) ([float(i.split(\" \")[1]) for i in open(\"fich.txt\", \"r\").read().split(\"\\n\")]))"
      ],
      "metadata": {
        "id": "hxBnilBhtZBb"
      },
      "execution_count": null,
      "outputs": []
    },
    {
      "cell_type": "code",
      "execution_count": null,
      "metadata": {
        "id": "760_NZS4I5Wx"
      },
      "outputs": [],
      "source": [
        "size = int(input())\n",
        "map = [input() for i in range(size)]\n",
        "nCoordenadas = int(input())\n",
        "\n",
        "coordenadas = [map(int, input().split(\",\")) for i in range(nCoordenadas)]\n",
        "\n",
        "salida = \"\"\n",
        "\n",
        "for i in coordenadas:\n",
        "    salida+=map[i[0]][i[1]]+\"\\n\"\n",
        "\n",
        "print(salida)"
      ]
    },
    {
      "cell_type": "code",
      "source": [
        "entrada = input().split(\"\\n\")\n",
        "size = int(entrada[0])\n",
        "map = [entrada[1+i] for i in range(size)]\n",
        "nCoordenadas = int(input())\n",
        "\n",
        "coordenadas = [map(int, input().split(\",\")) for i in range(nCoordenadas)]\n",
        "\n",
        "salida = \"\"\n",
        "\n",
        "for i in coordenadas:\n",
        "    salida+=map[i[0]][i[1]]+\"\\n\"\n",
        "\n",
        "print(salida)"
      ],
      "metadata": {
        "id": "PBWhOae2Nn-R"
      },
      "execution_count": null,
      "outputs": []
    },
    {
      "cell_type": "code",
      "source": [
        "f = open(\"t_values.txt\", \"r\")\n",
        "l = f.readline()\n",
        "res = []\n",
        "while l:\n",
        "    res.append(float(l[:-1].split(\" \")[1]))\n",
        "    l = f.readline()\n",
        "print(res)"
      ],
      "metadata": {
        "id": "kCxnxeAKU3EN"
      },
      "execution_count": null,
      "outputs": []
    }
  ]
}